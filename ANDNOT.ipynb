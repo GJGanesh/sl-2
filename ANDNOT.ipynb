{
 "cells": [
  {
   "cell_type": "markdown",
   "id": "5a3764bb-d70e-4320-9a84-6386b13676a5",
   "metadata": {},
   "source": [
    "Generate ANDNOT function using McCulloch-Pitts neural net."
   ]
  },
  {
   "cell_type": "code",
   "execution_count": 3,
   "id": "2e76aa65-f18f-4fbe-ab96-f91505a528a8",
   "metadata": {},
   "outputs": [],
   "source": [
    "import numpy as np"
   ]
  },
  {
   "cell_type": "code",
   "execution_count": 4,
   "id": "e6f0b735-9600-4eff-ae01-7b5f36322d68",
   "metadata": {},
   "outputs": [],
   "source": [
    "def mp_neuron(inputs,weights,threshold):\n",
    "    weighted_sum=np.dot(inputs,weights)\n",
    "    output=1 if weighted_sum>=threshold else 0\n",
    "    return output"
   ]
  },
  {
   "cell_type": "code",
   "execution_count": 5,
   "id": "66ef8dab-fd11-4800-b064-9a06d6c583e2",
   "metadata": {},
   "outputs": [],
   "source": [
    "def and_not(x1,x2):\n",
    "    weights=[1,-1]\n",
    "    threshold=1\n",
    "    inputs=np.array([x1,x2])\n",
    "    output=mp_neuron(inputs,weights,threshold)\n",
    "    return output"
   ]
  },
  {
   "cell_type": "code",
   "execution_count": 6,
   "id": "48a8aab4-51b8-4837-89b7-aebed9a903d8",
   "metadata": {},
   "outputs": [
    {
     "name": "stdout",
     "output_type": "stream",
     "text": [
      "0\n",
      "0\n",
      "1\n",
      "0\n"
     ]
    }
   ],
   "source": [
    "print(and_not(0,0))\n",
    "print(and_not(0,1))\n",
    "print(and_not(1,0))\n",
    "print(and_not(1,1))"
   ]
  },
  {
   "cell_type": "code",
   "execution_count": null,
   "id": "41f224a4-6d23-45e8-afaf-a2d7b2de82bf",
   "metadata": {},
   "outputs": [],
   "source": []
  }
 ],
 "metadata": {
  "kernelspec": {
   "display_name": "Python 3 (ipykernel)",
   "language": "python",
   "name": "python3"
  },
  "language_info": {
   "codemirror_mode": {
    "name": "ipython",
    "version": 3
   },
   "file_extension": ".py",
   "mimetype": "text/x-python",
   "name": "python",
   "nbconvert_exporter": "python",
   "pygments_lexer": "ipython3",
   "version": "3.11.7"
  }
 },
 "nbformat": 4,
 "nbformat_minor": 5
}
