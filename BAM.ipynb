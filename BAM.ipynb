{
 "cells": [
  {
   "cell_type": "markdown",
   "id": "081ed60e-7521-4f0a-a8b6-ef427a0929ab",
   "metadata": {},
   "source": [
    "Write a python Program for Bidirectional Associative Memory with two pairs of vectors."
   ]
  },
  {
   "cell_type": "code",
   "execution_count": 1,
   "id": "da80f5f3-c5bf-4dd6-b406-bdad85661051",
   "metadata": {},
   "outputs": [],
   "source": [
    "import numpy as np"
   ]
  },
  {
   "cell_type": "code",
   "execution_count": 2,
   "id": "3bf8c09d-3b2b-4c43-97a0-7bc26450f572",
   "metadata": {},
   "outputs": [],
   "source": [
    "X = np.array([[1, 1, 1, -1], [-1, -1, 1, 1]])\n",
    "Y = np.array([[1, -1], [-1, 1]])"
   ]
  },
  {
   "cell_type": "code",
   "execution_count": 3,
   "id": "6071bac1-0d56-4ba0-b675-83723862f823",
   "metadata": {},
   "outputs": [],
   "source": [
    "W = np.dot(Y.T, X)"
   ]
  },
  {
   "cell_type": "code",
   "execution_count": 4,
   "id": "0dbd0d7c-02e4-4dfa-96e0-52b0f41edb49",
   "metadata": {},
   "outputs": [],
   "source": [
    "def bam(x):\n",
    "    return np.sign(np.dot(W, x))"
   ]
  },
  {
   "cell_type": "code",
   "execution_count": 5,
   "id": "adb2be1d-4bd1-44b7-b433-2892b53cc2b9",
   "metadata": {},
   "outputs": [],
   "source": [
    "x_test = np.array([1, -1, -1, -1])\n",
    "y_test = bam(x_test)"
   ]
  },
  {
   "cell_type": "code",
   "execution_count": 6,
   "id": "3daf59bc-f6ff-4720-8289-0fed8bdfe1be",
   "metadata": {},
   "outputs": [
    {
     "name": "stdout",
     "output_type": "stream",
     "text": [
      "Input x: [ 1 -1 -1 -1]\n",
      "Output y: [ 1 -1]\n"
     ]
    }
   ],
   "source": [
    "print(\"Input x:\", x_test)\n",
    "print(\"Output y:\", y_test)"
   ]
  },
  {
   "cell_type": "code",
   "execution_count": null,
   "id": "0310c2d0-fde7-480a-8df7-d5b43ac39493",
   "metadata": {},
   "outputs": [],
   "source": []
  }
 ],
 "metadata": {
  "kernelspec": {
   "display_name": "Python 3 (ipykernel)",
   "language": "python",
   "name": "python3"
  },
  "language_info": {
   "codemirror_mode": {
    "name": "ipython",
    "version": 3
   },
   "file_extension": ".py",
   "mimetype": "text/x-python",
   "name": "python",
   "nbconvert_exporter": "python",
   "pygments_lexer": "ipython3",
   "version": "3.11.7"
  }
 },
 "nbformat": 4,
 "nbformat_minor": 5
}
