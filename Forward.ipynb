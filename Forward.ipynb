{
 "cells": [
  {
   "cell_type": "markdown",
   "id": "677ff950-9e4a-4e5a-b5f4-957858d854dd",
   "metadata": {},
   "source": [
    "Implement Artificial Neural Network training process in Python by using Forward\r\n",
    "Propagation."
   ]
  },
  {
   "cell_type": "code",
   "execution_count": 1,
   "id": "d7937bbe-d726-423a-844b-6bcfa7a8ed5b",
   "metadata": {},
   "outputs": [],
   "source": [
    "import numpy as np"
   ]
  },
  {
   "cell_type": "code",
   "execution_count": 2,
   "id": "45758ee5-743f-476c-bc38-c9d1668ebee0",
   "metadata": {},
   "outputs": [],
   "source": [
    "input_neuron=2\n",
    "hidden_neuron=4\n",
    "output_neuron=1"
   ]
  },
  {
   "cell_type": "code",
   "execution_count": 3,
   "id": "eb1ca2a7-1379-4141-ac03-17c978bd659a",
   "metadata": {},
   "outputs": [],
   "source": [
    "W1=np.random.randn(input_neuron,hidden_neuron)*0.01\n",
    "W2=np.random.randn(hidden_neuron,output_neuron)*0.01\n",
    "b1=np.random.randn(1,hidden_neuron)*0.01\n",
    "b2=np.random.randn(1,output_neuron)*0.01"
   ]
  },
  {
   "cell_type": "code",
   "execution_count": 4,
   "id": "96dba25d-9781-4052-825c-085694f5162b",
   "metadata": {},
   "outputs": [],
   "source": [
    "def sigmoid(x):\n",
    "    return 1/(1+np.exp(-x))"
   ]
  },
  {
   "cell_type": "code",
   "execution_count": 5,
   "id": "b9eabea3-0760-4a68-8281-fc2d343dc409",
   "metadata": {},
   "outputs": [],
   "source": [
    "def forward_propagation(X,W1,W2,b1,b2):\n",
    "    hidden_layer_input=np.dot(X,W1)+b1\n",
    "    hidden_layer_output=sigmoid(hidden_layer_input)\n",
    "    output_layer_input=np.dot(hidden_layer_input,W2)\n",
    "    output_layer_output=sigmoid(output_layer_input)\n",
    "    return output_layer_output"
   ]
  },
  {
   "cell_type": "code",
   "execution_count": 6,
   "id": "304eefef-af77-4f85-8466-d179942464a0",
   "metadata": {},
   "outputs": [],
   "source": [
    "X=np.array([[0,0],[0,1],[1,0],[1,1]])\n",
    "output_layer_output=forward_propagation(X,W1,W2,b1,b2)"
   ]
  },
  {
   "cell_type": "code",
   "execution_count": 8,
   "id": "f52898c0-ed74-4e87-bc97-5e7dd3022a04",
   "metadata": {},
   "outputs": [
    {
     "name": "stdout",
     "output_type": "stream",
     "text": [
      "Input:\n",
      "[[0 0]\n",
      " [0 1]\n",
      " [1 0]\n",
      " [1 1]]\n",
      "\n",
      "Output:\n",
      "[[0.50000472]\n",
      " [0.50000686]\n",
      " [0.50001873]\n",
      " [0.50002087]]\n"
     ]
    }
   ],
   "source": [
    "print(\"Input:\")\n",
    "print(X)\n",
    "print(\"\\nOutput:\")\n",
    "print(output_layer_output)"
   ]
  },
  {
   "cell_type": "code",
   "execution_count": null,
   "id": "6436342f-3c9b-4d5f-b318-c7122169992e",
   "metadata": {},
   "outputs": [],
   "source": []
  }
 ],
 "metadata": {
  "kernelspec": {
   "display_name": "Python 3 (ipykernel)",
   "language": "python",
   "name": "python3"
  },
  "language_info": {
   "codemirror_mode": {
    "name": "ipython",
    "version": 3
   },
   "file_extension": ".py",
   "mimetype": "text/x-python",
   "name": "python",
   "nbconvert_exporter": "python",
   "pygments_lexer": "ipython3",
   "version": "3.11.7"
  }
 },
 "nbformat": 4,
 "nbformat_minor": 5
}
