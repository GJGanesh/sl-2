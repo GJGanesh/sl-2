{
 "cells": [
  {
   "cell_type": "markdown",
   "id": "75fdca57-9fd2-4456-8ee7-c28df5ae3d44",
   "metadata": {},
   "source": [
    "Implement Artificial Neural Network training process in Python by using Back\r\n",
    "Propagation."
   ]
  },
  {
   "cell_type": "code",
   "execution_count": 1,
   "id": "7e0378cd-b0aa-4131-b38f-ef521ae71c3c",
   "metadata": {},
   "outputs": [],
   "source": [
    "import numpy as np"
   ]
  },
  {
   "cell_type": "code",
   "execution_count": 2,
   "id": "28d9a135-0301-4fd5-a844-744effeefbbc",
   "metadata": {},
   "outputs": [],
   "source": [
    "# Define the parameters of the network\n",
    "input_neuron = 2    # Number of input neurons\n",
    "hidden_neuron = 4   # Number of hidden neurons\n",
    "output_neuron = 1   # Number of output neurons\n",
    "learning_rate = 0.1\n",
    "epochs = 10000"
   ]
  },
  {
   "cell_type": "code",
   "execution_count": 3,
   "id": "9e020ab6-2540-4ab4-8ae5-f8cbb2e98c52",
   "metadata": {},
   "outputs": [],
   "source": [
    "# Define the training data\n",
    "X = np.array([[0, 0], [0, 1], [1, 0], [1, 1]])\n",
    "Y = np.array([[0], [1], [1], [0]])"
   ]
  },
  {
   "cell_type": "code",
   "execution_count": 4,
   "id": "79927052-feca-42e1-a99a-be80db6e8de8",
   "metadata": {},
   "outputs": [],
   "source": [
    "# Initialize the weights and biases with random values\n",
    "W1 = np.random.randn(input_neuron, hidden_neuron) * 0.01\n",
    "W2 = np.random.randn(hidden_neuron, output_neuron) * 0.01\n",
    "b1 = np.random.randn(1, hidden_neuron) * 0.01\n",
    "b2 = np.random.randn(1, output_neuron) * 0.01"
   ]
  },
  {
   "cell_type": "code",
   "execution_count": 5,
   "id": "12375190-fdf4-4db5-9f83-7171f9731d9d",
   "metadata": {},
   "outputs": [],
   "source": [
    "# Define the sigmoid activation function and its derivative\n",
    "def sigmoid(x):\n",
    "    return 1 / (1 + np.exp(-x))"
   ]
  },
  {
   "cell_type": "code",
   "execution_count": 6,
   "id": "0de31bdd-377d-46af-b06f-274c9e546871",
   "metadata": {},
   "outputs": [],
   "source": [
    "def sigmoid_derivative(x):\n",
    "    return x * (1 - x)\n"
   ]
  },
  {
   "cell_type": "code",
   "execution_count": 7,
   "id": "b5f2233b-ac87-4087-ad3a-f99ea698b1eb",
   "metadata": {},
   "outputs": [],
   "source": [
    "# Perform backward propagation\n",
    "for _ in range(epochs):\n",
    "    # Forward pass\n",
    "    hidden_layer_input = np.dot(X, W1) + b1\n",
    "    hidden_layer_output = sigmoid(hidden_layer_input)\n",
    "    output_layer_input = np.dot(hidden_layer_output, W2) + b2\n",
    "    output_layer_output = sigmoid(output_layer_input)\n",
    "\n",
    "    # Backward pass\n",
    "    output_error = Y - output_layer_output\n",
    "    output_delta = output_error * sigmoid_derivative(output_layer_output)\n",
    "    hidden_error = output_delta.dot(W2.T)\n",
    "    hidden_delta = hidden_error * sigmoid_derivative(hidden_layer_output)\n",
    "\n",
    "    # Update weights and biases\n",
    "    W2 += np.dot(hidden_layer_output.T, output_delta) * learning_rate\n",
    "    b2 += np.sum(output_delta, axis=0, keepdims=True) * learning_rate\n",
    "    W1 += np.dot(X.T, hidden_delta) * learning_rate\n",
    "    b1 += np.sum(hidden_delta, axis=0, keepdims=True) * learning_rate"
   ]
  },
  {
   "cell_type": "code",
   "execution_count": 9,
   "id": "f6a0627e-75db-49a8-b37c-e8a19b614841",
   "metadata": {},
   "outputs": [
    {
     "name": "stdout",
     "output_type": "stream",
     "text": [
      "\n",
      "Updated Weights W1:\n",
      "[[-0.00548237  0.0067269  -0.00458355  0.00105872]\n",
      " [ 0.00460103  0.01291279 -0.01661605  0.01234361]]\n",
      "\n",
      "Updated Weights W2:\n",
      "[[-0.00412703]\n",
      " [ 0.01010124]\n",
      " [-0.00417543]\n",
      " [ 0.00484588]]\n",
      "\n",
      "Updated Biases b1:\n",
      "[[-0.0028009  -0.0238991  -0.00267448 -0.00871664]]\n",
      "\n",
      "Updated Biases b2:\n",
      "[[-0.00330158]]\n"
     ]
    }
   ],
   "source": [
    "# Print the updated weights and biases\n",
    "print(\"\\nUpdated Weights W1:\")\n",
    "print(W1)\n",
    "print(\"\\nUpdated Weights W2:\")\n",
    "print(W2)\n",
    "print(\"\\nUpdated Biases b1:\")\n",
    "print(b1)\n",
    "print(\"\\nUpdated Biases b2:\")\n",
    "print(b2)\n"
   ]
  },
  {
   "cell_type": "code",
   "execution_count": null,
   "id": "ee4c6d88-1c61-4b3f-a544-d577ea1a64b2",
   "metadata": {},
   "outputs": [],
   "source": []
  }
 ],
 "metadata": {
  "kernelspec": {
   "display_name": "Python 3 (ipykernel)",
   "language": "python",
   "name": "python3"
  },
  "language_info": {
   "codemirror_mode": {
    "name": "ipython",
    "version": 3
   },
   "file_extension": ".py",
   "mimetype": "text/x-python",
   "name": "python",
   "nbconvert_exporter": "python",
   "pygments_lexer": "ipython3",
   "version": "3.11.7"
  }
 },
 "nbformat": 4,
 "nbformat_minor": 5
}
